{
  "nbformat": 4,
  "nbformat_minor": 0,
  "metadata": {
    "colab": {
      "name": "Calculator.ipynb",
      "provenance": [],
      "authorship_tag": "ABX9TyOjzKlGzV9QCMouPKOwVnsY",
      "include_colab_link": true
    },
    "kernelspec": {
      "name": "python3",
      "display_name": "Python 3"
    },
    "language_info": {
      "name": "python"
    }
  },
  "cells": [
    {
      "cell_type": "markdown",
      "metadata": {
        "id": "view-in-github",
        "colab_type": "text"
      },
      "source": [
        "<a href=\"https://colab.research.google.com/github/arianab68/Calculator/blob/main/Calculator.ipynb\" target=\"_parent\"><img src=\"https://colab.research.google.com/assets/colab-badge.svg\" alt=\"Open In Colab\"/></a>"
      ]
    },
    {
      "cell_type": "markdown",
      "metadata": {
        "id": "QoRJ5Ah1Ytr5"
      },
      "source": [
        "**Calculator Script**\n",
        "\n",
        "A simple calculator to perform binary mathematical operations.\n",
        "\n",
        "\n"
      ]
    },
    {
      "cell_type": "code",
      "metadata": {
        "id": "MF7LG9EYZMu1"
      },
      "source": [
        "\n",
        "def add(a,b):\n",
        "  return a + b \n",
        "#This function takes two values a & b and it returns the value of a + b.\n",
        "\n",
        "def sub(a,b):\n",
        "  return a - b\n",
        "\n",
        "def multiply(a,b):\n",
        "  return a * b\n",
        "\n",
        "def divide(a,b):\n",
        "  return a/b"
      ],
      "execution_count": 1,
      "outputs": []
    },
    {
      "cell_type": "code",
      "metadata": {
        "id": "pQBzNzzJcv_o"
      },
      "source": [
        "def calc():\n",
        "  is_running = True\n",
        "  result = 0\n",
        "  save = False \n",
        "\n",
        "  while is_running:\n",
        "    operation = input('Enter a mathematical operator (+, -, *, /) [PRESS Q TO QUIT]: ')\n",
        "\n",
        "    if operation == 'Q':\n",
        "      break \n",
        "\n",
        "    if not save:\n",
        "      op1 = float(input('Enter the first operand: '))\n",
        "    else:\n",
        "      op1 = result\n",
        "    op2 = float(input('Enter the second operand: '))\n",
        "    if operation == '+':\n",
        "      result = add(op1, op2)\n",
        "      print('The result is', result)\n",
        "    elif operation == '-':\n",
        "      result = sub(op1, op2)\n",
        "      print('The result is', result)\n",
        "    elif operation == '*':\n",
        "      result = multiply(op1, op2)\n",
        "      print('The result is', result)\n",
        "    elif operation == '/':\n",
        "      result = divide(op1, op2)\n",
        "      print('The result is', result)\n",
        "    else:\n",
        "      print(operation, 'is not a valid operation')\n",
        "\n",
        "    temp = input('Would you like to save the previous value [Y/N]? [PRESS Q TO QUIT]: ')\n",
        "    if temp == 'Y':\n",
        "      save = True\n",
        "    elif temp == 'Q':\n",
        "      break\n",
        "    else:\n",
        "      save = False\n"
      ],
      "execution_count": 2,
      "outputs": []
    },
    {
      "cell_type": "code",
      "metadata": {
        "id": "RE1GKYqRnW03"
      },
      "source": [
        "calc()"
      ],
      "execution_count": null,
      "outputs": []
    },
    {
      "cell_type": "code",
      "metadata": {
        "id": "J2bdvXrvnYLp"
      },
      "source": [
        ""
      ],
      "execution_count": null,
      "outputs": []
    }
  ]
}